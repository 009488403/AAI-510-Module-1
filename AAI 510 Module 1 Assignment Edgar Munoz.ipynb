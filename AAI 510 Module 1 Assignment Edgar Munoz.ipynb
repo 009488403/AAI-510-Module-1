{
 "cells": [
  {
   "cell_type": "markdown",
   "id": "5de39bb1",
   "metadata": {},
   "source": [
    "Edgar Munoz\n",
    "\n",
    "AAI 510 Assignment 1.1 \n",
    "\n",
    "Selecting 10 Home Credit Default Risk features using EDA"
   ]
  },
  {
   "cell_type": "code",
   "execution_count": 1,
   "id": "4c00135b",
   "metadata": {},
   "outputs": [
    {
     "name": "stdout",
     "output_type": "stream",
     "text": [
      "<class 'pandas.core.frame.DataFrame'>\n",
      "RangeIndex: 307511 entries, 0 to 307510\n",
      "Data columns (total 122 columns):\n",
      " #    Column                        Dtype  \n",
      "---   ------                        -----  \n",
      " 0    SK_ID_CURR                    int64  \n",
      " 1    TARGET                        int64  \n",
      " 2    NAME_CONTRACT_TYPE            object \n",
      " 3    CODE_GENDER                   object \n",
      " 4    FLAG_OWN_CAR                  object \n",
      " 5    FLAG_OWN_REALTY               object \n",
      " 6    CNT_CHILDREN                  int64  \n",
      " 7    AMT_INCOME_TOTAL              float64\n",
      " 8    AMT_CREDIT                    float64\n",
      " 9    AMT_ANNUITY                   float64\n",
      " 10   AMT_GOODS_PRICE               float64\n",
      " 11   NAME_TYPE_SUITE               object \n",
      " 12   NAME_INCOME_TYPE              object \n",
      " 13   NAME_EDUCATION_TYPE           object \n",
      " 14   NAME_FAMILY_STATUS            object \n",
      " 15   NAME_HOUSING_TYPE             object \n",
      " 16   REGION_POPULATION_RELATIVE    float64\n",
      " 17   DAYS_BIRTH                    int64  \n",
      " 18   DAYS_EMPLOYED                 int64  \n",
      " 19   DAYS_REGISTRATION             float64\n",
      " 20   DAYS_ID_PUBLISH               int64  \n",
      " 21   OWN_CAR_AGE                   float64\n",
      " 22   FLAG_MOBIL                    int64  \n",
      " 23   FLAG_EMP_PHONE                int64  \n",
      " 24   FLAG_WORK_PHONE               int64  \n",
      " 25   FLAG_CONT_MOBILE              int64  \n",
      " 26   FLAG_PHONE                    int64  \n",
      " 27   FLAG_EMAIL                    int64  \n",
      " 28   OCCUPATION_TYPE               object \n",
      " 29   CNT_FAM_MEMBERS               float64\n",
      " 30   REGION_RATING_CLIENT          int64  \n",
      " 31   REGION_RATING_CLIENT_W_CITY   int64  \n",
      " 32   WEEKDAY_APPR_PROCESS_START    object \n",
      " 33   HOUR_APPR_PROCESS_START       int64  \n",
      " 34   REG_REGION_NOT_LIVE_REGION    int64  \n",
      " 35   REG_REGION_NOT_WORK_REGION    int64  \n",
      " 36   LIVE_REGION_NOT_WORK_REGION   int64  \n",
      " 37   REG_CITY_NOT_LIVE_CITY        int64  \n",
      " 38   REG_CITY_NOT_WORK_CITY        int64  \n",
      " 39   LIVE_CITY_NOT_WORK_CITY       int64  \n",
      " 40   ORGANIZATION_TYPE             object \n",
      " 41   EXT_SOURCE_1                  float64\n",
      " 42   EXT_SOURCE_2                  float64\n",
      " 43   EXT_SOURCE_3                  float64\n",
      " 44   APARTMENTS_AVG                float64\n",
      " 45   BASEMENTAREA_AVG              float64\n",
      " 46   YEARS_BEGINEXPLUATATION_AVG   float64\n",
      " 47   YEARS_BUILD_AVG               float64\n",
      " 48   COMMONAREA_AVG                float64\n",
      " 49   ELEVATORS_AVG                 float64\n",
      " 50   ENTRANCES_AVG                 float64\n",
      " 51   FLOORSMAX_AVG                 float64\n",
      " 52   FLOORSMIN_AVG                 float64\n",
      " 53   LANDAREA_AVG                  float64\n",
      " 54   LIVINGAPARTMENTS_AVG          float64\n",
      " 55   LIVINGAREA_AVG                float64\n",
      " 56   NONLIVINGAPARTMENTS_AVG       float64\n",
      " 57   NONLIVINGAREA_AVG             float64\n",
      " 58   APARTMENTS_MODE               float64\n",
      " 59   BASEMENTAREA_MODE             float64\n",
      " 60   YEARS_BEGINEXPLUATATION_MODE  float64\n",
      " 61   YEARS_BUILD_MODE              float64\n",
      " 62   COMMONAREA_MODE               float64\n",
      " 63   ELEVATORS_MODE                float64\n",
      " 64   ENTRANCES_MODE                float64\n",
      " 65   FLOORSMAX_MODE                float64\n",
      " 66   FLOORSMIN_MODE                float64\n",
      " 67   LANDAREA_MODE                 float64\n",
      " 68   LIVINGAPARTMENTS_MODE         float64\n",
      " 69   LIVINGAREA_MODE               float64\n",
      " 70   NONLIVINGAPARTMENTS_MODE      float64\n",
      " 71   NONLIVINGAREA_MODE            float64\n",
      " 72   APARTMENTS_MEDI               float64\n",
      " 73   BASEMENTAREA_MEDI             float64\n",
      " 74   YEARS_BEGINEXPLUATATION_MEDI  float64\n",
      " 75   YEARS_BUILD_MEDI              float64\n",
      " 76   COMMONAREA_MEDI               float64\n",
      " 77   ELEVATORS_MEDI                float64\n",
      " 78   ENTRANCES_MEDI                float64\n",
      " 79   FLOORSMAX_MEDI                float64\n",
      " 80   FLOORSMIN_MEDI                float64\n",
      " 81   LANDAREA_MEDI                 float64\n",
      " 82   LIVINGAPARTMENTS_MEDI         float64\n",
      " 83   LIVINGAREA_MEDI               float64\n",
      " 84   NONLIVINGAPARTMENTS_MEDI      float64\n",
      " 85   NONLIVINGAREA_MEDI            float64\n",
      " 86   FONDKAPREMONT_MODE            object \n",
      " 87   HOUSETYPE_MODE                object \n",
      " 88   TOTALAREA_MODE                float64\n",
      " 89   WALLSMATERIAL_MODE            object \n",
      " 90   EMERGENCYSTATE_MODE           object \n",
      " 91   OBS_30_CNT_SOCIAL_CIRCLE      float64\n",
      " 92   DEF_30_CNT_SOCIAL_CIRCLE      float64\n",
      " 93   OBS_60_CNT_SOCIAL_CIRCLE      float64\n",
      " 94   DEF_60_CNT_SOCIAL_CIRCLE      float64\n",
      " 95   DAYS_LAST_PHONE_CHANGE        float64\n",
      " 96   FLAG_DOCUMENT_2               int64  \n",
      " 97   FLAG_DOCUMENT_3               int64  \n",
      " 98   FLAG_DOCUMENT_4               int64  \n",
      " 99   FLAG_DOCUMENT_5               int64  \n",
      " 100  FLAG_DOCUMENT_6               int64  \n",
      " 101  FLAG_DOCUMENT_7               int64  \n",
      " 102  FLAG_DOCUMENT_8               int64  \n",
      " 103  FLAG_DOCUMENT_9               int64  \n",
      " 104  FLAG_DOCUMENT_10              int64  \n",
      " 105  FLAG_DOCUMENT_11              int64  \n",
      " 106  FLAG_DOCUMENT_12              int64  \n",
      " 107  FLAG_DOCUMENT_13              int64  \n",
      " 108  FLAG_DOCUMENT_14              int64  \n",
      " 109  FLAG_DOCUMENT_15              int64  \n",
      " 110  FLAG_DOCUMENT_16              int64  \n",
      " 111  FLAG_DOCUMENT_17              int64  \n",
      " 112  FLAG_DOCUMENT_18              int64  \n",
      " 113  FLAG_DOCUMENT_19              int64  \n",
      " 114  FLAG_DOCUMENT_20              int64  \n",
      " 115  FLAG_DOCUMENT_21              int64  \n",
      " 116  AMT_REQ_CREDIT_BUREAU_HOUR    float64\n",
      " 117  AMT_REQ_CREDIT_BUREAU_DAY     float64\n",
      " 118  AMT_REQ_CREDIT_BUREAU_WEEK    float64\n",
      " 119  AMT_REQ_CREDIT_BUREAU_MON     float64\n",
      " 120  AMT_REQ_CREDIT_BUREAU_QRT     float64\n",
      " 121  AMT_REQ_CREDIT_BUREAU_YEAR    float64\n",
      "dtypes: float64(65), int64(41), object(16)\n",
      "memory usage: 286.2+ MB\n"
     ]
    },
    {
     "data": {
      "text/html": [
       "<div>\n",
       "<style scoped>\n",
       "    .dataframe tbody tr th:only-of-type {\n",
       "        vertical-align: middle;\n",
       "    }\n",
       "\n",
       "    .dataframe tbody tr th {\n",
       "        vertical-align: top;\n",
       "    }\n",
       "\n",
       "    .dataframe thead th {\n",
       "        text-align: right;\n",
       "    }\n",
       "</style>\n",
       "<table border=\"1\" class=\"dataframe\">\n",
       "  <thead>\n",
       "    <tr style=\"text-align: right;\">\n",
       "      <th></th>\n",
       "      <th>SK_ID_CURR</th>\n",
       "      <th>TARGET</th>\n",
       "      <th>NAME_CONTRACT_TYPE</th>\n",
       "      <th>CODE_GENDER</th>\n",
       "      <th>FLAG_OWN_CAR</th>\n",
       "      <th>FLAG_OWN_REALTY</th>\n",
       "      <th>CNT_CHILDREN</th>\n",
       "      <th>AMT_INCOME_TOTAL</th>\n",
       "      <th>AMT_CREDIT</th>\n",
       "      <th>AMT_ANNUITY</th>\n",
       "      <th>...</th>\n",
       "      <th>FLAG_DOCUMENT_18</th>\n",
       "      <th>FLAG_DOCUMENT_19</th>\n",
       "      <th>FLAG_DOCUMENT_20</th>\n",
       "      <th>FLAG_DOCUMENT_21</th>\n",
       "      <th>AMT_REQ_CREDIT_BUREAU_HOUR</th>\n",
       "      <th>AMT_REQ_CREDIT_BUREAU_DAY</th>\n",
       "      <th>AMT_REQ_CREDIT_BUREAU_WEEK</th>\n",
       "      <th>AMT_REQ_CREDIT_BUREAU_MON</th>\n",
       "      <th>AMT_REQ_CREDIT_BUREAU_QRT</th>\n",
       "      <th>AMT_REQ_CREDIT_BUREAU_YEAR</th>\n",
       "    </tr>\n",
       "  </thead>\n",
       "  <tbody>\n",
       "    <tr>\n",
       "      <th>0</th>\n",
       "      <td>100002</td>\n",
       "      <td>1</td>\n",
       "      <td>Cash loans</td>\n",
       "      <td>M</td>\n",
       "      <td>N</td>\n",
       "      <td>Y</td>\n",
       "      <td>0</td>\n",
       "      <td>202500.0</td>\n",
       "      <td>406597.5</td>\n",
       "      <td>24700.5</td>\n",
       "      <td>...</td>\n",
       "      <td>0</td>\n",
       "      <td>0</td>\n",
       "      <td>0</td>\n",
       "      <td>0</td>\n",
       "      <td>0.0</td>\n",
       "      <td>0.0</td>\n",
       "      <td>0.0</td>\n",
       "      <td>0.0</td>\n",
       "      <td>0.0</td>\n",
       "      <td>1.0</td>\n",
       "    </tr>\n",
       "    <tr>\n",
       "      <th>1</th>\n",
       "      <td>100003</td>\n",
       "      <td>0</td>\n",
       "      <td>Cash loans</td>\n",
       "      <td>F</td>\n",
       "      <td>N</td>\n",
       "      <td>N</td>\n",
       "      <td>0</td>\n",
       "      <td>270000.0</td>\n",
       "      <td>1293502.5</td>\n",
       "      <td>35698.5</td>\n",
       "      <td>...</td>\n",
       "      <td>0</td>\n",
       "      <td>0</td>\n",
       "      <td>0</td>\n",
       "      <td>0</td>\n",
       "      <td>0.0</td>\n",
       "      <td>0.0</td>\n",
       "      <td>0.0</td>\n",
       "      <td>0.0</td>\n",
       "      <td>0.0</td>\n",
       "      <td>0.0</td>\n",
       "    </tr>\n",
       "    <tr>\n",
       "      <th>2</th>\n",
       "      <td>100004</td>\n",
       "      <td>0</td>\n",
       "      <td>Revolving loans</td>\n",
       "      <td>M</td>\n",
       "      <td>Y</td>\n",
       "      <td>Y</td>\n",
       "      <td>0</td>\n",
       "      <td>67500.0</td>\n",
       "      <td>135000.0</td>\n",
       "      <td>6750.0</td>\n",
       "      <td>...</td>\n",
       "      <td>0</td>\n",
       "      <td>0</td>\n",
       "      <td>0</td>\n",
       "      <td>0</td>\n",
       "      <td>0.0</td>\n",
       "      <td>0.0</td>\n",
       "      <td>0.0</td>\n",
       "      <td>0.0</td>\n",
       "      <td>0.0</td>\n",
       "      <td>0.0</td>\n",
       "    </tr>\n",
       "    <tr>\n",
       "      <th>3</th>\n",
       "      <td>100006</td>\n",
       "      <td>0</td>\n",
       "      <td>Cash loans</td>\n",
       "      <td>F</td>\n",
       "      <td>N</td>\n",
       "      <td>Y</td>\n",
       "      <td>0</td>\n",
       "      <td>135000.0</td>\n",
       "      <td>312682.5</td>\n",
       "      <td>29686.5</td>\n",
       "      <td>...</td>\n",
       "      <td>0</td>\n",
       "      <td>0</td>\n",
       "      <td>0</td>\n",
       "      <td>0</td>\n",
       "      <td>NaN</td>\n",
       "      <td>NaN</td>\n",
       "      <td>NaN</td>\n",
       "      <td>NaN</td>\n",
       "      <td>NaN</td>\n",
       "      <td>NaN</td>\n",
       "    </tr>\n",
       "    <tr>\n",
       "      <th>4</th>\n",
       "      <td>100007</td>\n",
       "      <td>0</td>\n",
       "      <td>Cash loans</td>\n",
       "      <td>M</td>\n",
       "      <td>N</td>\n",
       "      <td>Y</td>\n",
       "      <td>0</td>\n",
       "      <td>121500.0</td>\n",
       "      <td>513000.0</td>\n",
       "      <td>21865.5</td>\n",
       "      <td>...</td>\n",
       "      <td>0</td>\n",
       "      <td>0</td>\n",
       "      <td>0</td>\n",
       "      <td>0</td>\n",
       "      <td>0.0</td>\n",
       "      <td>0.0</td>\n",
       "      <td>0.0</td>\n",
       "      <td>0.0</td>\n",
       "      <td>0.0</td>\n",
       "      <td>0.0</td>\n",
       "    </tr>\n",
       "  </tbody>\n",
       "</table>\n",
       "<p>5 rows × 122 columns</p>\n",
       "</div>"
      ],
      "text/plain": [
       "   SK_ID_CURR  TARGET NAME_CONTRACT_TYPE CODE_GENDER FLAG_OWN_CAR  \\\n",
       "0      100002       1         Cash loans           M            N   \n",
       "1      100003       0         Cash loans           F            N   \n",
       "2      100004       0    Revolving loans           M            Y   \n",
       "3      100006       0         Cash loans           F            N   \n",
       "4      100007       0         Cash loans           M            N   \n",
       "\n",
       "  FLAG_OWN_REALTY  CNT_CHILDREN  AMT_INCOME_TOTAL  AMT_CREDIT  AMT_ANNUITY  \\\n",
       "0               Y             0          202500.0    406597.5      24700.5   \n",
       "1               N             0          270000.0   1293502.5      35698.5   \n",
       "2               Y             0           67500.0    135000.0       6750.0   \n",
       "3               Y             0          135000.0    312682.5      29686.5   \n",
       "4               Y             0          121500.0    513000.0      21865.5   \n",
       "\n",
       "   ...  FLAG_DOCUMENT_18 FLAG_DOCUMENT_19 FLAG_DOCUMENT_20 FLAG_DOCUMENT_21  \\\n",
       "0  ...                 0                0                0                0   \n",
       "1  ...                 0                0                0                0   \n",
       "2  ...                 0                0                0                0   \n",
       "3  ...                 0                0                0                0   \n",
       "4  ...                 0                0                0                0   \n",
       "\n",
       "  AMT_REQ_CREDIT_BUREAU_HOUR AMT_REQ_CREDIT_BUREAU_DAY  \\\n",
       "0                        0.0                       0.0   \n",
       "1                        0.0                       0.0   \n",
       "2                        0.0                       0.0   \n",
       "3                        NaN                       NaN   \n",
       "4                        0.0                       0.0   \n",
       "\n",
       "   AMT_REQ_CREDIT_BUREAU_WEEK  AMT_REQ_CREDIT_BUREAU_MON  \\\n",
       "0                         0.0                        0.0   \n",
       "1                         0.0                        0.0   \n",
       "2                         0.0                        0.0   \n",
       "3                         NaN                        NaN   \n",
       "4                         0.0                        0.0   \n",
       "\n",
       "   AMT_REQ_CREDIT_BUREAU_QRT  AMT_REQ_CREDIT_BUREAU_YEAR  \n",
       "0                        0.0                         1.0  \n",
       "1                        0.0                         0.0  \n",
       "2                        0.0                         0.0  \n",
       "3                        NaN                         NaN  \n",
       "4                        0.0                         0.0  \n",
       "\n",
       "[5 rows x 122 columns]"
      ]
     },
     "execution_count": 1,
     "metadata": {},
     "output_type": "execute_result"
    }
   ],
   "source": [
    "# importing libraries\n",
    "import numpy as np # may not require during EDA\n",
    "import matplotlib.pyplot as plt\n",
    "import pandas as pd\n",
    "import seaborn as sns\n",
    "\n",
    "# Application Training dataset\n",
    "train_df = pd.read_csv('/Users/macbookair/Desktop/AAI 510 ML/Module 1/home-credit-default-risk/application_train.csv')\n",
    "train_df.info(1)\n",
    "train_df.head(5)"
   ]
  },
  {
   "cell_type": "code",
   "execution_count": 2,
   "id": "a0acef9a",
   "metadata": {},
   "outputs": [
    {
     "name": "stdout",
     "output_type": "stream",
     "text": [
      "<class 'pandas.core.frame.DataFrame'>\n",
      "RangeIndex: 48744 entries, 0 to 48743\n",
      "Data columns (total 121 columns):\n",
      " #    Column                        Dtype  \n",
      "---   ------                        -----  \n",
      " 0    SK_ID_CURR                    int64  \n",
      " 1    NAME_CONTRACT_TYPE            object \n",
      " 2    CODE_GENDER                   object \n",
      " 3    FLAG_OWN_CAR                  object \n",
      " 4    FLAG_OWN_REALTY               object \n",
      " 5    CNT_CHILDREN                  int64  \n",
      " 6    AMT_INCOME_TOTAL              float64\n",
      " 7    AMT_CREDIT                    float64\n",
      " 8    AMT_ANNUITY                   float64\n",
      " 9    AMT_GOODS_PRICE               float64\n",
      " 10   NAME_TYPE_SUITE               object \n",
      " 11   NAME_INCOME_TYPE              object \n",
      " 12   NAME_EDUCATION_TYPE           object \n",
      " 13   NAME_FAMILY_STATUS            object \n",
      " 14   NAME_HOUSING_TYPE             object \n",
      " 15   REGION_POPULATION_RELATIVE    float64\n",
      " 16   DAYS_BIRTH                    int64  \n",
      " 17   DAYS_EMPLOYED                 int64  \n",
      " 18   DAYS_REGISTRATION             float64\n",
      " 19   DAYS_ID_PUBLISH               int64  \n",
      " 20   OWN_CAR_AGE                   float64\n",
      " 21   FLAG_MOBIL                    int64  \n",
      " 22   FLAG_EMP_PHONE                int64  \n",
      " 23   FLAG_WORK_PHONE               int64  \n",
      " 24   FLAG_CONT_MOBILE              int64  \n",
      " 25   FLAG_PHONE                    int64  \n",
      " 26   FLAG_EMAIL                    int64  \n",
      " 27   OCCUPATION_TYPE               object \n",
      " 28   CNT_FAM_MEMBERS               float64\n",
      " 29   REGION_RATING_CLIENT          int64  \n",
      " 30   REGION_RATING_CLIENT_W_CITY   int64  \n",
      " 31   WEEKDAY_APPR_PROCESS_START    object \n",
      " 32   HOUR_APPR_PROCESS_START       int64  \n",
      " 33   REG_REGION_NOT_LIVE_REGION    int64  \n",
      " 34   REG_REGION_NOT_WORK_REGION    int64  \n",
      " 35   LIVE_REGION_NOT_WORK_REGION   int64  \n",
      " 36   REG_CITY_NOT_LIVE_CITY        int64  \n",
      " 37   REG_CITY_NOT_WORK_CITY        int64  \n",
      " 38   LIVE_CITY_NOT_WORK_CITY       int64  \n",
      " 39   ORGANIZATION_TYPE             object \n",
      " 40   EXT_SOURCE_1                  float64\n",
      " 41   EXT_SOURCE_2                  float64\n",
      " 42   EXT_SOURCE_3                  float64\n",
      " 43   APARTMENTS_AVG                float64\n",
      " 44   BASEMENTAREA_AVG              float64\n",
      " 45   YEARS_BEGINEXPLUATATION_AVG   float64\n",
      " 46   YEARS_BUILD_AVG               float64\n",
      " 47   COMMONAREA_AVG                float64\n",
      " 48   ELEVATORS_AVG                 float64\n",
      " 49   ENTRANCES_AVG                 float64\n",
      " 50   FLOORSMAX_AVG                 float64\n",
      " 51   FLOORSMIN_AVG                 float64\n",
      " 52   LANDAREA_AVG                  float64\n",
      " 53   LIVINGAPARTMENTS_AVG          float64\n",
      " 54   LIVINGAREA_AVG                float64\n",
      " 55   NONLIVINGAPARTMENTS_AVG       float64\n",
      " 56   NONLIVINGAREA_AVG             float64\n",
      " 57   APARTMENTS_MODE               float64\n",
      " 58   BASEMENTAREA_MODE             float64\n",
      " 59   YEARS_BEGINEXPLUATATION_MODE  float64\n",
      " 60   YEARS_BUILD_MODE              float64\n",
      " 61   COMMONAREA_MODE               float64\n",
      " 62   ELEVATORS_MODE                float64\n",
      " 63   ENTRANCES_MODE                float64\n",
      " 64   FLOORSMAX_MODE                float64\n",
      " 65   FLOORSMIN_MODE                float64\n",
      " 66   LANDAREA_MODE                 float64\n",
      " 67   LIVINGAPARTMENTS_MODE         float64\n",
      " 68   LIVINGAREA_MODE               float64\n",
      " 69   NONLIVINGAPARTMENTS_MODE      float64\n",
      " 70   NONLIVINGAREA_MODE            float64\n",
      " 71   APARTMENTS_MEDI               float64\n",
      " 72   BASEMENTAREA_MEDI             float64\n",
      " 73   YEARS_BEGINEXPLUATATION_MEDI  float64\n",
      " 74   YEARS_BUILD_MEDI              float64\n",
      " 75   COMMONAREA_MEDI               float64\n",
      " 76   ELEVATORS_MEDI                float64\n",
      " 77   ENTRANCES_MEDI                float64\n",
      " 78   FLOORSMAX_MEDI                float64\n",
      " 79   FLOORSMIN_MEDI                float64\n",
      " 80   LANDAREA_MEDI                 float64\n",
      " 81   LIVINGAPARTMENTS_MEDI         float64\n",
      " 82   LIVINGAREA_MEDI               float64\n",
      " 83   NONLIVINGAPARTMENTS_MEDI      float64\n",
      " 84   NONLIVINGAREA_MEDI            float64\n",
      " 85   FONDKAPREMONT_MODE            object \n",
      " 86   HOUSETYPE_MODE                object \n",
      " 87   TOTALAREA_MODE                float64\n",
      " 88   WALLSMATERIAL_MODE            object \n",
      " 89   EMERGENCYSTATE_MODE           object \n",
      " 90   OBS_30_CNT_SOCIAL_CIRCLE      float64\n",
      " 91   DEF_30_CNT_SOCIAL_CIRCLE      float64\n",
      " 92   OBS_60_CNT_SOCIAL_CIRCLE      float64\n",
      " 93   DEF_60_CNT_SOCIAL_CIRCLE      float64\n",
      " 94   DAYS_LAST_PHONE_CHANGE        float64\n",
      " 95   FLAG_DOCUMENT_2               int64  \n",
      " 96   FLAG_DOCUMENT_3               int64  \n",
      " 97   FLAG_DOCUMENT_4               int64  \n",
      " 98   FLAG_DOCUMENT_5               int64  \n",
      " 99   FLAG_DOCUMENT_6               int64  \n",
      " 100  FLAG_DOCUMENT_7               int64  \n",
      " 101  FLAG_DOCUMENT_8               int64  \n",
      " 102  FLAG_DOCUMENT_9               int64  \n",
      " 103  FLAG_DOCUMENT_10              int64  \n",
      " 104  FLAG_DOCUMENT_11              int64  \n",
      " 105  FLAG_DOCUMENT_12              int64  \n",
      " 106  FLAG_DOCUMENT_13              int64  \n",
      " 107  FLAG_DOCUMENT_14              int64  \n",
      " 108  FLAG_DOCUMENT_15              int64  \n",
      " 109  FLAG_DOCUMENT_16              int64  \n",
      " 110  FLAG_DOCUMENT_17              int64  \n",
      " 111  FLAG_DOCUMENT_18              int64  \n",
      " 112  FLAG_DOCUMENT_19              int64  \n",
      " 113  FLAG_DOCUMENT_20              int64  \n",
      " 114  FLAG_DOCUMENT_21              int64  \n",
      " 115  AMT_REQ_CREDIT_BUREAU_HOUR    float64\n",
      " 116  AMT_REQ_CREDIT_BUREAU_DAY     float64\n",
      " 117  AMT_REQ_CREDIT_BUREAU_WEEK    float64\n",
      " 118  AMT_REQ_CREDIT_BUREAU_MON     float64\n",
      " 119  AMT_REQ_CREDIT_BUREAU_QRT     float64\n",
      " 120  AMT_REQ_CREDIT_BUREAU_YEAR    float64\n",
      "dtypes: float64(65), int64(40), object(16)\n",
      "memory usage: 45.0+ MB\n"
     ]
    },
    {
     "data": {
      "text/html": [
       "<div>\n",
       "<style scoped>\n",
       "    .dataframe tbody tr th:only-of-type {\n",
       "        vertical-align: middle;\n",
       "    }\n",
       "\n",
       "    .dataframe tbody tr th {\n",
       "        vertical-align: top;\n",
       "    }\n",
       "\n",
       "    .dataframe thead th {\n",
       "        text-align: right;\n",
       "    }\n",
       "</style>\n",
       "<table border=\"1\" class=\"dataframe\">\n",
       "  <thead>\n",
       "    <tr style=\"text-align: right;\">\n",
       "      <th></th>\n",
       "      <th>SK_ID_CURR</th>\n",
       "      <th>NAME_CONTRACT_TYPE</th>\n",
       "      <th>CODE_GENDER</th>\n",
       "      <th>FLAG_OWN_CAR</th>\n",
       "      <th>FLAG_OWN_REALTY</th>\n",
       "      <th>CNT_CHILDREN</th>\n",
       "      <th>AMT_INCOME_TOTAL</th>\n",
       "      <th>AMT_CREDIT</th>\n",
       "      <th>AMT_ANNUITY</th>\n",
       "      <th>AMT_GOODS_PRICE</th>\n",
       "      <th>...</th>\n",
       "      <th>FLAG_DOCUMENT_18</th>\n",
       "      <th>FLAG_DOCUMENT_19</th>\n",
       "      <th>FLAG_DOCUMENT_20</th>\n",
       "      <th>FLAG_DOCUMENT_21</th>\n",
       "      <th>AMT_REQ_CREDIT_BUREAU_HOUR</th>\n",
       "      <th>AMT_REQ_CREDIT_BUREAU_DAY</th>\n",
       "      <th>AMT_REQ_CREDIT_BUREAU_WEEK</th>\n",
       "      <th>AMT_REQ_CREDIT_BUREAU_MON</th>\n",
       "      <th>AMT_REQ_CREDIT_BUREAU_QRT</th>\n",
       "      <th>AMT_REQ_CREDIT_BUREAU_YEAR</th>\n",
       "    </tr>\n",
       "  </thead>\n",
       "  <tbody>\n",
       "    <tr>\n",
       "      <th>0</th>\n",
       "      <td>100001</td>\n",
       "      <td>Cash loans</td>\n",
       "      <td>F</td>\n",
       "      <td>N</td>\n",
       "      <td>Y</td>\n",
       "      <td>0</td>\n",
       "      <td>135000.0</td>\n",
       "      <td>568800.0</td>\n",
       "      <td>20560.5</td>\n",
       "      <td>450000.0</td>\n",
       "      <td>...</td>\n",
       "      <td>0</td>\n",
       "      <td>0</td>\n",
       "      <td>0</td>\n",
       "      <td>0</td>\n",
       "      <td>0.0</td>\n",
       "      <td>0.0</td>\n",
       "      <td>0.0</td>\n",
       "      <td>0.0</td>\n",
       "      <td>0.0</td>\n",
       "      <td>0.0</td>\n",
       "    </tr>\n",
       "    <tr>\n",
       "      <th>1</th>\n",
       "      <td>100005</td>\n",
       "      <td>Cash loans</td>\n",
       "      <td>M</td>\n",
       "      <td>N</td>\n",
       "      <td>Y</td>\n",
       "      <td>0</td>\n",
       "      <td>99000.0</td>\n",
       "      <td>222768.0</td>\n",
       "      <td>17370.0</td>\n",
       "      <td>180000.0</td>\n",
       "      <td>...</td>\n",
       "      <td>0</td>\n",
       "      <td>0</td>\n",
       "      <td>0</td>\n",
       "      <td>0</td>\n",
       "      <td>0.0</td>\n",
       "      <td>0.0</td>\n",
       "      <td>0.0</td>\n",
       "      <td>0.0</td>\n",
       "      <td>0.0</td>\n",
       "      <td>3.0</td>\n",
       "    </tr>\n",
       "    <tr>\n",
       "      <th>2</th>\n",
       "      <td>100013</td>\n",
       "      <td>Cash loans</td>\n",
       "      <td>M</td>\n",
       "      <td>Y</td>\n",
       "      <td>Y</td>\n",
       "      <td>0</td>\n",
       "      <td>202500.0</td>\n",
       "      <td>663264.0</td>\n",
       "      <td>69777.0</td>\n",
       "      <td>630000.0</td>\n",
       "      <td>...</td>\n",
       "      <td>0</td>\n",
       "      <td>0</td>\n",
       "      <td>0</td>\n",
       "      <td>0</td>\n",
       "      <td>0.0</td>\n",
       "      <td>0.0</td>\n",
       "      <td>0.0</td>\n",
       "      <td>0.0</td>\n",
       "      <td>1.0</td>\n",
       "      <td>4.0</td>\n",
       "    </tr>\n",
       "    <tr>\n",
       "      <th>3</th>\n",
       "      <td>100028</td>\n",
       "      <td>Cash loans</td>\n",
       "      <td>F</td>\n",
       "      <td>N</td>\n",
       "      <td>Y</td>\n",
       "      <td>2</td>\n",
       "      <td>315000.0</td>\n",
       "      <td>1575000.0</td>\n",
       "      <td>49018.5</td>\n",
       "      <td>1575000.0</td>\n",
       "      <td>...</td>\n",
       "      <td>0</td>\n",
       "      <td>0</td>\n",
       "      <td>0</td>\n",
       "      <td>0</td>\n",
       "      <td>0.0</td>\n",
       "      <td>0.0</td>\n",
       "      <td>0.0</td>\n",
       "      <td>0.0</td>\n",
       "      <td>0.0</td>\n",
       "      <td>3.0</td>\n",
       "    </tr>\n",
       "    <tr>\n",
       "      <th>4</th>\n",
       "      <td>100038</td>\n",
       "      <td>Cash loans</td>\n",
       "      <td>M</td>\n",
       "      <td>Y</td>\n",
       "      <td>N</td>\n",
       "      <td>1</td>\n",
       "      <td>180000.0</td>\n",
       "      <td>625500.0</td>\n",
       "      <td>32067.0</td>\n",
       "      <td>625500.0</td>\n",
       "      <td>...</td>\n",
       "      <td>0</td>\n",
       "      <td>0</td>\n",
       "      <td>0</td>\n",
       "      <td>0</td>\n",
       "      <td>NaN</td>\n",
       "      <td>NaN</td>\n",
       "      <td>NaN</td>\n",
       "      <td>NaN</td>\n",
       "      <td>NaN</td>\n",
       "      <td>NaN</td>\n",
       "    </tr>\n",
       "  </tbody>\n",
       "</table>\n",
       "<p>5 rows × 121 columns</p>\n",
       "</div>"
      ],
      "text/plain": [
       "   SK_ID_CURR NAME_CONTRACT_TYPE CODE_GENDER FLAG_OWN_CAR FLAG_OWN_REALTY  \\\n",
       "0      100001         Cash loans           F            N               Y   \n",
       "1      100005         Cash loans           M            N               Y   \n",
       "2      100013         Cash loans           M            Y               Y   \n",
       "3      100028         Cash loans           F            N               Y   \n",
       "4      100038         Cash loans           M            Y               N   \n",
       "\n",
       "   CNT_CHILDREN  AMT_INCOME_TOTAL  AMT_CREDIT  AMT_ANNUITY  AMT_GOODS_PRICE  \\\n",
       "0             0          135000.0    568800.0      20560.5         450000.0   \n",
       "1             0           99000.0    222768.0      17370.0         180000.0   \n",
       "2             0          202500.0    663264.0      69777.0         630000.0   \n",
       "3             2          315000.0   1575000.0      49018.5        1575000.0   \n",
       "4             1          180000.0    625500.0      32067.0         625500.0   \n",
       "\n",
       "   ... FLAG_DOCUMENT_18 FLAG_DOCUMENT_19 FLAG_DOCUMENT_20 FLAG_DOCUMENT_21  \\\n",
       "0  ...                0                0                0                0   \n",
       "1  ...                0                0                0                0   \n",
       "2  ...                0                0                0                0   \n",
       "3  ...                0                0                0                0   \n",
       "4  ...                0                0                0                0   \n",
       "\n",
       "  AMT_REQ_CREDIT_BUREAU_HOUR  AMT_REQ_CREDIT_BUREAU_DAY  \\\n",
       "0                        0.0                        0.0   \n",
       "1                        0.0                        0.0   \n",
       "2                        0.0                        0.0   \n",
       "3                        0.0                        0.0   \n",
       "4                        NaN                        NaN   \n",
       "\n",
       "   AMT_REQ_CREDIT_BUREAU_WEEK  AMT_REQ_CREDIT_BUREAU_MON  \\\n",
       "0                         0.0                        0.0   \n",
       "1                         0.0                        0.0   \n",
       "2                         0.0                        0.0   \n",
       "3                         0.0                        0.0   \n",
       "4                         NaN                        NaN   \n",
       "\n",
       "   AMT_REQ_CREDIT_BUREAU_QRT  AMT_REQ_CREDIT_BUREAU_YEAR  \n",
       "0                        0.0                         0.0  \n",
       "1                        0.0                         3.0  \n",
       "2                        1.0                         4.0  \n",
       "3                        0.0                         3.0  \n",
       "4                        NaN                         NaN  \n",
       "\n",
       "[5 rows x 121 columns]"
      ]
     },
     "execution_count": 2,
     "metadata": {},
     "output_type": "execute_result"
    }
   ],
   "source": [
    "# Application Testing dataset\n",
    "test_df = pd.read_csv('/Users/macbookair/Desktop/AAI 510 ML/Module 1/home-credit-default-risk/application_test.csv')\n",
    "test_df.info(1)\n",
    "test_df.head(5)"
   ]
  },
  {
   "cell_type": "markdown",
   "id": "413cce57",
   "metadata": {},
   "source": [
    "# Exploratory Data Analysis"
   ]
  },
  {
   "cell_type": "markdown",
   "id": "ae39ee04",
   "metadata": {},
   "source": [
    "Descriptive Statistics"
   ]
  },
  {
   "cell_type": "code",
   "execution_count": 3,
   "id": "f2c2c14e",
   "metadata": {
    "scrolled": true
   },
   "outputs": [
    {
     "data": {
      "text/html": [
       "<div>\n",
       "<style scoped>\n",
       "    .dataframe tbody tr th:only-of-type {\n",
       "        vertical-align: middle;\n",
       "    }\n",
       "\n",
       "    .dataframe tbody tr th {\n",
       "        vertical-align: top;\n",
       "    }\n",
       "\n",
       "    .dataframe thead th {\n",
       "        text-align: right;\n",
       "    }\n",
       "</style>\n",
       "<table border=\"1\" class=\"dataframe\">\n",
       "  <thead>\n",
       "    <tr style=\"text-align: right;\">\n",
       "      <th></th>\n",
       "      <th>SK_ID_CURR</th>\n",
       "      <th>TARGET</th>\n",
       "      <th>CNT_CHILDREN</th>\n",
       "      <th>AMT_INCOME_TOTAL</th>\n",
       "      <th>AMT_CREDIT</th>\n",
       "      <th>AMT_ANNUITY</th>\n",
       "      <th>AMT_GOODS_PRICE</th>\n",
       "      <th>REGION_POPULATION_RELATIVE</th>\n",
       "      <th>DAYS_BIRTH</th>\n",
       "      <th>DAYS_EMPLOYED</th>\n",
       "      <th>...</th>\n",
       "      <th>FLAG_DOCUMENT_18</th>\n",
       "      <th>FLAG_DOCUMENT_19</th>\n",
       "      <th>FLAG_DOCUMENT_20</th>\n",
       "      <th>FLAG_DOCUMENT_21</th>\n",
       "      <th>AMT_REQ_CREDIT_BUREAU_HOUR</th>\n",
       "      <th>AMT_REQ_CREDIT_BUREAU_DAY</th>\n",
       "      <th>AMT_REQ_CREDIT_BUREAU_WEEK</th>\n",
       "      <th>AMT_REQ_CREDIT_BUREAU_MON</th>\n",
       "      <th>AMT_REQ_CREDIT_BUREAU_QRT</th>\n",
       "      <th>AMT_REQ_CREDIT_BUREAU_YEAR</th>\n",
       "    </tr>\n",
       "  </thead>\n",
       "  <tbody>\n",
       "    <tr>\n",
       "      <th>count</th>\n",
       "      <td>307511.000000</td>\n",
       "      <td>307511.000000</td>\n",
       "      <td>307511.000000</td>\n",
       "      <td>3.075110e+05</td>\n",
       "      <td>3.075110e+05</td>\n",
       "      <td>307499.000000</td>\n",
       "      <td>3.072330e+05</td>\n",
       "      <td>307511.000000</td>\n",
       "      <td>307511.000000</td>\n",
       "      <td>307511.000000</td>\n",
       "      <td>...</td>\n",
       "      <td>307511.000000</td>\n",
       "      <td>307511.000000</td>\n",
       "      <td>307511.000000</td>\n",
       "      <td>307511.000000</td>\n",
       "      <td>265992.000000</td>\n",
       "      <td>265992.000000</td>\n",
       "      <td>265992.000000</td>\n",
       "      <td>265992.000000</td>\n",
       "      <td>265992.000000</td>\n",
       "      <td>265992.000000</td>\n",
       "    </tr>\n",
       "    <tr>\n",
       "      <th>mean</th>\n",
       "      <td>278180.518577</td>\n",
       "      <td>0.080729</td>\n",
       "      <td>0.417052</td>\n",
       "      <td>1.687979e+05</td>\n",
       "      <td>5.990260e+05</td>\n",
       "      <td>27108.573909</td>\n",
       "      <td>5.383962e+05</td>\n",
       "      <td>0.020868</td>\n",
       "      <td>-16036.995067</td>\n",
       "      <td>63815.045904</td>\n",
       "      <td>...</td>\n",
       "      <td>0.008130</td>\n",
       "      <td>0.000595</td>\n",
       "      <td>0.000507</td>\n",
       "      <td>0.000335</td>\n",
       "      <td>0.006402</td>\n",
       "      <td>0.007000</td>\n",
       "      <td>0.034362</td>\n",
       "      <td>0.267395</td>\n",
       "      <td>0.265474</td>\n",
       "      <td>1.899974</td>\n",
       "    </tr>\n",
       "    <tr>\n",
       "      <th>std</th>\n",
       "      <td>102790.175348</td>\n",
       "      <td>0.272419</td>\n",
       "      <td>0.722121</td>\n",
       "      <td>2.371231e+05</td>\n",
       "      <td>4.024908e+05</td>\n",
       "      <td>14493.737315</td>\n",
       "      <td>3.694465e+05</td>\n",
       "      <td>0.013831</td>\n",
       "      <td>4363.988632</td>\n",
       "      <td>141275.766519</td>\n",
       "      <td>...</td>\n",
       "      <td>0.089798</td>\n",
       "      <td>0.024387</td>\n",
       "      <td>0.022518</td>\n",
       "      <td>0.018299</td>\n",
       "      <td>0.083849</td>\n",
       "      <td>0.110757</td>\n",
       "      <td>0.204685</td>\n",
       "      <td>0.916002</td>\n",
       "      <td>0.794056</td>\n",
       "      <td>1.869295</td>\n",
       "    </tr>\n",
       "    <tr>\n",
       "      <th>min</th>\n",
       "      <td>100002.000000</td>\n",
       "      <td>0.000000</td>\n",
       "      <td>0.000000</td>\n",
       "      <td>2.565000e+04</td>\n",
       "      <td>4.500000e+04</td>\n",
       "      <td>1615.500000</td>\n",
       "      <td>4.050000e+04</td>\n",
       "      <td>0.000290</td>\n",
       "      <td>-25229.000000</td>\n",
       "      <td>-17912.000000</td>\n",
       "      <td>...</td>\n",
       "      <td>0.000000</td>\n",
       "      <td>0.000000</td>\n",
       "      <td>0.000000</td>\n",
       "      <td>0.000000</td>\n",
       "      <td>0.000000</td>\n",
       "      <td>0.000000</td>\n",
       "      <td>0.000000</td>\n",
       "      <td>0.000000</td>\n",
       "      <td>0.000000</td>\n",
       "      <td>0.000000</td>\n",
       "    </tr>\n",
       "    <tr>\n",
       "      <th>25%</th>\n",
       "      <td>189145.500000</td>\n",
       "      <td>0.000000</td>\n",
       "      <td>0.000000</td>\n",
       "      <td>1.125000e+05</td>\n",
       "      <td>2.700000e+05</td>\n",
       "      <td>16524.000000</td>\n",
       "      <td>2.385000e+05</td>\n",
       "      <td>0.010006</td>\n",
       "      <td>-19682.000000</td>\n",
       "      <td>-2760.000000</td>\n",
       "      <td>...</td>\n",
       "      <td>0.000000</td>\n",
       "      <td>0.000000</td>\n",
       "      <td>0.000000</td>\n",
       "      <td>0.000000</td>\n",
       "      <td>0.000000</td>\n",
       "      <td>0.000000</td>\n",
       "      <td>0.000000</td>\n",
       "      <td>0.000000</td>\n",
       "      <td>0.000000</td>\n",
       "      <td>0.000000</td>\n",
       "    </tr>\n",
       "    <tr>\n",
       "      <th>50%</th>\n",
       "      <td>278202.000000</td>\n",
       "      <td>0.000000</td>\n",
       "      <td>0.000000</td>\n",
       "      <td>1.471500e+05</td>\n",
       "      <td>5.135310e+05</td>\n",
       "      <td>24903.000000</td>\n",
       "      <td>4.500000e+05</td>\n",
       "      <td>0.018850</td>\n",
       "      <td>-15750.000000</td>\n",
       "      <td>-1213.000000</td>\n",
       "      <td>...</td>\n",
       "      <td>0.000000</td>\n",
       "      <td>0.000000</td>\n",
       "      <td>0.000000</td>\n",
       "      <td>0.000000</td>\n",
       "      <td>0.000000</td>\n",
       "      <td>0.000000</td>\n",
       "      <td>0.000000</td>\n",
       "      <td>0.000000</td>\n",
       "      <td>0.000000</td>\n",
       "      <td>1.000000</td>\n",
       "    </tr>\n",
       "    <tr>\n",
       "      <th>75%</th>\n",
       "      <td>367142.500000</td>\n",
       "      <td>0.000000</td>\n",
       "      <td>1.000000</td>\n",
       "      <td>2.025000e+05</td>\n",
       "      <td>8.086500e+05</td>\n",
       "      <td>34596.000000</td>\n",
       "      <td>6.795000e+05</td>\n",
       "      <td>0.028663</td>\n",
       "      <td>-12413.000000</td>\n",
       "      <td>-289.000000</td>\n",
       "      <td>...</td>\n",
       "      <td>0.000000</td>\n",
       "      <td>0.000000</td>\n",
       "      <td>0.000000</td>\n",
       "      <td>0.000000</td>\n",
       "      <td>0.000000</td>\n",
       "      <td>0.000000</td>\n",
       "      <td>0.000000</td>\n",
       "      <td>0.000000</td>\n",
       "      <td>0.000000</td>\n",
       "      <td>3.000000</td>\n",
       "    </tr>\n",
       "    <tr>\n",
       "      <th>max</th>\n",
       "      <td>456255.000000</td>\n",
       "      <td>1.000000</td>\n",
       "      <td>19.000000</td>\n",
       "      <td>1.170000e+08</td>\n",
       "      <td>4.050000e+06</td>\n",
       "      <td>258025.500000</td>\n",
       "      <td>4.050000e+06</td>\n",
       "      <td>0.072508</td>\n",
       "      <td>-7489.000000</td>\n",
       "      <td>365243.000000</td>\n",
       "      <td>...</td>\n",
       "      <td>1.000000</td>\n",
       "      <td>1.000000</td>\n",
       "      <td>1.000000</td>\n",
       "      <td>1.000000</td>\n",
       "      <td>4.000000</td>\n",
       "      <td>9.000000</td>\n",
       "      <td>8.000000</td>\n",
       "      <td>27.000000</td>\n",
       "      <td>261.000000</td>\n",
       "      <td>25.000000</td>\n",
       "    </tr>\n",
       "  </tbody>\n",
       "</table>\n",
       "<p>8 rows × 106 columns</p>\n",
       "</div>"
      ],
      "text/plain": [
       "          SK_ID_CURR         TARGET   CNT_CHILDREN  AMT_INCOME_TOTAL  \\\n",
       "count  307511.000000  307511.000000  307511.000000      3.075110e+05   \n",
       "mean   278180.518577       0.080729       0.417052      1.687979e+05   \n",
       "std    102790.175348       0.272419       0.722121      2.371231e+05   \n",
       "min    100002.000000       0.000000       0.000000      2.565000e+04   \n",
       "25%    189145.500000       0.000000       0.000000      1.125000e+05   \n",
       "50%    278202.000000       0.000000       0.000000      1.471500e+05   \n",
       "75%    367142.500000       0.000000       1.000000      2.025000e+05   \n",
       "max    456255.000000       1.000000      19.000000      1.170000e+08   \n",
       "\n",
       "         AMT_CREDIT    AMT_ANNUITY  AMT_GOODS_PRICE  \\\n",
       "count  3.075110e+05  307499.000000     3.072330e+05   \n",
       "mean   5.990260e+05   27108.573909     5.383962e+05   \n",
       "std    4.024908e+05   14493.737315     3.694465e+05   \n",
       "min    4.500000e+04    1615.500000     4.050000e+04   \n",
       "25%    2.700000e+05   16524.000000     2.385000e+05   \n",
       "50%    5.135310e+05   24903.000000     4.500000e+05   \n",
       "75%    8.086500e+05   34596.000000     6.795000e+05   \n",
       "max    4.050000e+06  258025.500000     4.050000e+06   \n",
       "\n",
       "       REGION_POPULATION_RELATIVE     DAYS_BIRTH  DAYS_EMPLOYED  ...  \\\n",
       "count               307511.000000  307511.000000  307511.000000  ...   \n",
       "mean                     0.020868  -16036.995067   63815.045904  ...   \n",
       "std                      0.013831    4363.988632  141275.766519  ...   \n",
       "min                      0.000290  -25229.000000  -17912.000000  ...   \n",
       "25%                      0.010006  -19682.000000   -2760.000000  ...   \n",
       "50%                      0.018850  -15750.000000   -1213.000000  ...   \n",
       "75%                      0.028663  -12413.000000    -289.000000  ...   \n",
       "max                      0.072508   -7489.000000  365243.000000  ...   \n",
       "\n",
       "       FLAG_DOCUMENT_18  FLAG_DOCUMENT_19  FLAG_DOCUMENT_20  FLAG_DOCUMENT_21  \\\n",
       "count     307511.000000     307511.000000     307511.000000     307511.000000   \n",
       "mean           0.008130          0.000595          0.000507          0.000335   \n",
       "std            0.089798          0.024387          0.022518          0.018299   \n",
       "min            0.000000          0.000000          0.000000          0.000000   \n",
       "25%            0.000000          0.000000          0.000000          0.000000   \n",
       "50%            0.000000          0.000000          0.000000          0.000000   \n",
       "75%            0.000000          0.000000          0.000000          0.000000   \n",
       "max            1.000000          1.000000          1.000000          1.000000   \n",
       "\n",
       "       AMT_REQ_CREDIT_BUREAU_HOUR  AMT_REQ_CREDIT_BUREAU_DAY  \\\n",
       "count               265992.000000              265992.000000   \n",
       "mean                     0.006402                   0.007000   \n",
       "std                      0.083849                   0.110757   \n",
       "min                      0.000000                   0.000000   \n",
       "25%                      0.000000                   0.000000   \n",
       "50%                      0.000000                   0.000000   \n",
       "75%                      0.000000                   0.000000   \n",
       "max                      4.000000                   9.000000   \n",
       "\n",
       "       AMT_REQ_CREDIT_BUREAU_WEEK  AMT_REQ_CREDIT_BUREAU_MON  \\\n",
       "count               265992.000000              265992.000000   \n",
       "mean                     0.034362                   0.267395   \n",
       "std                      0.204685                   0.916002   \n",
       "min                      0.000000                   0.000000   \n",
       "25%                      0.000000                   0.000000   \n",
       "50%                      0.000000                   0.000000   \n",
       "75%                      0.000000                   0.000000   \n",
       "max                      8.000000                  27.000000   \n",
       "\n",
       "       AMT_REQ_CREDIT_BUREAU_QRT  AMT_REQ_CREDIT_BUREAU_YEAR  \n",
       "count              265992.000000               265992.000000  \n",
       "mean                    0.265474                    1.899974  \n",
       "std                     0.794056                    1.869295  \n",
       "min                     0.000000                    0.000000  \n",
       "25%                     0.000000                    0.000000  \n",
       "50%                     0.000000                    1.000000  \n",
       "75%                     0.000000                    3.000000  \n",
       "max                   261.000000                   25.000000  \n",
       "\n",
       "[8 rows x 106 columns]"
      ]
     },
     "execution_count": 3,
     "metadata": {},
     "output_type": "execute_result"
    }
   ],
   "source": [
    "# Describing numerical (not object) values in train data set\n",
    "train_df.describe()"
   ]
  },
  {
   "cell_type": "markdown",
   "id": "958009ab",
   "metadata": {},
   "source": [
    "FINDING DATA TYPES"
   ]
  },
  {
   "cell_type": "code",
   "execution_count": 4,
   "id": "2f14c4a8",
   "metadata": {
    "scrolled": true
   },
   "outputs": [
    {
     "data": {
      "text/plain": [
       "float64    65\n",
       "int64      41\n",
       "object     16\n",
       "dtype: int64"
      ]
     },
     "execution_count": 4,
     "metadata": {},
     "output_type": "execute_result"
    }
   ],
   "source": [
    "# dtypes in train data (objects = unique classes)\n",
    "train_df.dtypes.value_counts()"
   ]
  },
  {
   "cell_type": "markdown",
   "id": "c27e5365",
   "metadata": {},
   "source": [
    "FINDING MISSING (NULL) VALUES"
   ]
  },
  {
   "cell_type": "code",
   "execution_count": 5,
   "id": "1086ef96",
   "metadata": {},
   "outputs": [
    {
     "name": "stdout",
     "output_type": "stream",
     "text": [
      "Training null values: 9152465\n",
      "Testing null values: 1404419\n"
     ]
    }
   ],
   "source": [
    "# Checking data sets for missing (null) values\n",
    "train_df.isnull().sum()\n",
    "test_df.isnull().sum()\n",
    "\n",
    "print('Training null values:', train_df.isnull().sum().sum())\n",
    "print('Testing null values:', test_df.isnull().sum().sum())"
   ]
  },
  {
   "cell_type": "markdown",
   "id": "30c1df17",
   "metadata": {},
   "source": [
    "\n",
    "FINDING DUPLICATE ENTRIES"
   ]
  },
  {
   "cell_type": "code",
   "execution_count": 6,
   "id": "f0ed0d73",
   "metadata": {},
   "outputs": [
    {
     "name": "stdout",
     "output_type": "stream",
     "text": [
      "Duplicate values (True/False):\n",
      "\n",
      "False    307511\n",
      "dtype: int64\n",
      "\n",
      "Sum of duplicate entries: 0\n"
     ]
    }
   ],
   "source": [
    "# Checking data for duplicate entries\n",
    "train_duplicated_values = train_df.duplicated().value_counts()\n",
    "train_duplicated_sum = train_df.duplicated().sum()\n",
    "print('Duplicate values (True/False):\\n')\n",
    "print(train_duplicated_values)\n",
    "print()\n",
    "print('Sum of duplicate entries:', train_duplicated_sum)"
   ]
  },
  {
   "cell_type": "markdown",
   "id": "07fc937e",
   "metadata": {},
   "source": [
    "\n",
    "TARGET VALUE COUNTS"
   ]
  },
  {
   "cell_type": "code",
   "execution_count": 7,
   "id": "588198da",
   "metadata": {},
   "outputs": [
    {
     "name": "stdout",
     "output_type": "stream",
     "text": [
      "Target value counts:\n",
      "\n",
      "0    282686\n",
      "1     24825\n",
      "Name: TARGET, dtype: int64\n",
      "\n",
      "Total Target values: 307511\n"
     ]
    }
   ],
   "source": [
    "# Target value counts\n",
    "print('Target value counts:\\n') \n",
    "print(train_df['TARGET'].value_counts())\n",
    "print()\n",
    "print('Total Target values:', train_df['TARGET'].value_counts().sum())"
   ]
  },
  {
   "cell_type": "code",
   "execution_count": 8,
   "id": "5a829f09",
   "metadata": {},
   "outputs": [
    {
     "data": {
      "text/plain": [
       "<AxesSubplot:xlabel='TARGET', ylabel='count'>"
      ]
     },
     "execution_count": 8,
     "metadata": {},
     "output_type": "execute_result"
    },
    {
     "data": {
      "image/png": "[encoded data removed]",
      "text/plain": [
       "<Figure size 432x288 with 1 Axes>"
      ]
     },
     "metadata": {
      "needs_background": "light"
     },
     "output_type": "display_data"
    }
   ],
   "source": [
    "# Visualization on \"TARGET\" variable via countplot\n",
    "sns.countplot(data = train_df, x='TARGET')"
   ]
  },
  {
   "cell_type": "markdown",
   "id": "25dd92e3",
   "metadata": {},
   "source": [
    "* Target values of \"1\" equate to 8.07% of all target values."
   ]
  },
  {
   "cell_type": "markdown",
   "id": "f9ec0ae0",
   "metadata": {},
   "source": [
    "FINDING DATA TYPES"
   ]
  },
  {
   "cell_type": "code",
   "execution_count": 9,
   "id": "58d5205c",
   "metadata": {},
   "outputs": [
    {
     "data": {
      "text/plain": [
       "float64    65\n",
       "int64      41\n",
       "object     16\n",
       "dtype: int64"
      ]
     },
     "execution_count": 9,
     "metadata": {},
     "output_type": "execute_result"
    }
   ],
   "source": [
    "# dtypes in train data (object = unique classes)\n",
    "train_df.dtypes.value_counts()"
   ]
  },
  {
   "cell_type": "markdown",
   "id": "3d1ce60e",
   "metadata": {},
   "source": [
    "* 16 unique features exist in the train data set"
   ]
  },
  {
   "cell_type": "code",
   "execution_count": 10,
   "id": "ca1e5049",
   "metadata": {},
   "outputs": [
    {
     "name": "stdout",
     "output_type": "stream",
     "text": [
      "                         index   0\n",
      "0           NAME_CONTRACT_TYPE   2\n",
      "1                  CODE_GENDER   3\n",
      "2                 FLAG_OWN_CAR   2\n",
      "3              FLAG_OWN_REALTY   2\n",
      "4              NAME_TYPE_SUITE   7\n",
      "5             NAME_INCOME_TYPE   8\n",
      "6          NAME_EDUCATION_TYPE   5\n",
      "7           NAME_FAMILY_STATUS   6\n",
      "8            NAME_HOUSING_TYPE   6\n",
      "9              OCCUPATION_TYPE  18\n",
      "10  WEEKDAY_APPR_PROCESS_START   7\n",
      "11           ORGANIZATION_TYPE  58\n",
      "12          FONDKAPREMONT_MODE   4\n",
      "13              HOUSETYPE_MODE   3\n",
      "14          WALLSMATERIAL_MODE   7\n",
      "15         EMERGENCYSTATE_MODE   2\n"
     ]
    }
   ],
   "source": [
    "# Unique features (categorical object)\n",
    "unique_features = pd.DataFrame(train_df.select_dtypes('object').nunique()).reset_index()\n",
    "print(unique_features)"
   ]
  },
  {
   "cell_type": "code",
   "execution_count": 11,
   "id": "db7cfc05",
   "metadata": {},
   "outputs": [
    {
     "name": "stdout",
     "output_type": "stream",
     "text": [
      "ORGANIZATION_TYPE             1\n",
      "WALLSMATERIAL_MODE            1\n",
      "NAME_TYPE_SUITE               1\n",
      "FONDKAPREMONT_MODE            1\n",
      "CODE_GENDER                   1\n",
      "OCCUPATION_TYPE               1\n",
      "NAME_HOUSING_TYPE             1\n",
      "WEEKDAY_APPR_PROCESS_START    1\n",
      "NAME_CONTRACT_TYPE            1\n",
      "NAME_EDUCATION_TYPE           1\n",
      "NAME_FAMILY_STATUS            1\n",
      "HOUSETYPE_MODE                1\n",
      "FLAG_OWN_REALTY               1\n",
      "NAME_INCOME_TYPE              1\n",
      "EMERGENCYSTATE_MODE           1\n",
      "FLAG_OWN_CAR                  1\n",
      "Name: index, dtype: int64 \n",
      "\n",
      "2     4\n",
      "7     3\n",
      "3     2\n",
      "6     2\n",
      "4     1\n",
      "5     1\n",
      "8     1\n",
      "18    1\n",
      "58    1\n",
      "Name: 0, dtype: int64 \n",
      "\n"
     ]
    }
   ],
   "source": [
    "# Unique features data\n",
    "for index in unique_features:\n",
    "    print(unique_features[index].value_counts(), '\\n')"
   ]
  },
  {
   "cell_type": "markdown",
   "id": "c8b4768e",
   "metadata": {},
   "source": [
    "Two features contain XNA values:\n",
    "* CODE_GENDER: XNA (4)\n",
    "* ORGANIZATION_TYPE: XNA (55374)"
   ]
  },
  {
   "cell_type": "code",
   "execution_count": 12,
   "id": "678090ef",
   "metadata": {},
   "outputs": [
    {
     "name": "stdout",
     "output_type": "stream",
     "text": [
      "F      202448\n",
      "M      105059\n",
      "XNA         4\n",
      "Name: CODE_GENDER, dtype: int64\n",
      "F    32678\n",
      "M    16066\n",
      "Name: CODE_GENDER, dtype: int64\n"
     ]
    }
   ],
   "source": [
    "print(train_df['CODE_GENDER'].value_counts())\n",
    "print(test_df['CODE_GENDER'].value_counts())\n"
   ]
  },
  {
   "cell_type": "markdown",
   "id": "caa5b9ad",
   "metadata": {},
   "source": [
    "* CODE_GENDER contains FOUR XNA values in train data set, ZERO in test data set"
   ]
  },
  {
   "cell_type": "code",
   "execution_count": 13,
   "id": "9a5634da",
   "metadata": {},
   "outputs": [
    {
     "name": "stdout",
     "output_type": "stream",
     "text": [
      "Business Entity Type 3    67992\n",
      "XNA                       55374\n",
      "Self-employed             38412\n",
      "Other                     16683\n",
      "Medicine                  11193\n",
      "Business Entity Type 2    10553\n",
      "Government                10404\n",
      "School                     8893\n",
      "Trade: type 7              7831\n",
      "Kindergarten               6880\n",
      "Construction               6721\n",
      "Business Entity Type 1     5984\n",
      "Transport: type 4          5398\n",
      "Trade: type 3              3492\n",
      "Industry: type 9           3368\n",
      "Industry: type 3           3278\n",
      "Security                   3247\n",
      "Housing                    2958\n",
      "Industry: type 11          2704\n",
      "Military                   2634\n",
      "Bank                       2507\n",
      "Agriculture                2454\n",
      "Police                     2341\n",
      "Transport: type 2          2204\n",
      "Postal                     2157\n",
      "Security Ministries        1974\n",
      "Trade: type 2              1900\n",
      "Restaurant                 1811\n",
      "Services                   1575\n",
      "University                 1327\n",
      "Industry: type 7           1307\n",
      "Transport: type 3          1187\n",
      "Industry: type 1           1039\n",
      "Hotel                       966\n",
      "Electricity                 950\n",
      "Industry: type 4            877\n",
      "Trade: type 6               631\n",
      "Industry: type 5            599\n",
      "Insurance                   597\n",
      "Telecom                     577\n",
      "Emergency                   560\n",
      "Industry: type 2            458\n",
      "Advertising                 429\n",
      "Realtor                     396\n",
      "Culture                     379\n",
      "Industry: type 12           369\n",
      "Trade: type 1               348\n",
      "Mobile                      317\n",
      "Legal Services              305\n",
      "Cleaning                    260\n",
      "Transport: type 1           201\n",
      "Industry: type 6            112\n",
      "Industry: type 10           109\n",
      "Religion                     85\n",
      "Industry: type 13            67\n",
      "Trade: type 4                64\n",
      "Trade: type 5                49\n",
      "Industry: type 8             24\n",
      "Name: ORGANIZATION_TYPE, dtype: int64\n",
      "\n",
      "Business Entity Type 3    10840\n",
      "XNA                        9274\n",
      "Self-employed              5920\n",
      "Other                      2707\n",
      "Medicine                   1716\n",
      "Government                 1508\n",
      "Business Entity Type 2     1479\n",
      "Trade: type 7              1303\n",
      "School                     1287\n",
      "Construction               1039\n",
      "Kindergarten               1038\n",
      "Business Entity Type 1      887\n",
      "Transport: type 4           884\n",
      "Trade: type 3               578\n",
      "Military                    530\n",
      "Industry: type 9            499\n",
      "Industry: type 3            489\n",
      "Security                    472\n",
      "Transport: type 2           448\n",
      "Police                      441\n",
      "Housing                     435\n",
      "Industry: type 11           416\n",
      "Bank                        374\n",
      "Security Ministries         341\n",
      "Services                    302\n",
      "Postal                      294\n",
      "Agriculture                 292\n",
      "Restaurant                  284\n",
      "Trade: type 2               242\n",
      "University                  221\n",
      "Industry: type 7            217\n",
      "Industry: type 1            178\n",
      "Transport: type 3           174\n",
      "Industry: type 4            167\n",
      "Electricity                 156\n",
      "Hotel                       134\n",
      "Trade: type 6               122\n",
      "Industry: type 5             97\n",
      "Telecom                      95\n",
      "Emergency                    91\n",
      "Insurance                    80\n",
      "Industry: type 2             77\n",
      "Industry: type 12            77\n",
      "Realtor                      72\n",
      "Advertising                  71\n",
      "Trade: type 1                64\n",
      "Culture                      61\n",
      "Legal Services               53\n",
      "Mobile                       45\n",
      "Cleaning                     43\n",
      "Transport: type 1            35\n",
      "Industry: type 6             27\n",
      "Industry: type 10            24\n",
      "Trade: type 4                14\n",
      "Religion                     12\n",
      "Trade: type 5                 9\n",
      "Industry: type 13             6\n",
      "Industry: type 8              3\n",
      "Name: ORGANIZATION_TYPE, dtype: int64\n"
     ]
    }
   ],
   "source": [
    "print(train_df['ORGANIZATION_TYPE'].value_counts())\n",
    "print()\n",
    "print(test_df['ORGANIZATION_TYPE'].value_counts())"
   ]
  },
  {
   "cell_type": "markdown",
   "id": "b842dd6d",
   "metadata": {},
   "source": [
    "* ORGANIZATION_TYPE contains 55374 XNA values in train data set and 9274 XNA values in test data set."
   ]
  },
  {
   "cell_type": "markdown",
   "id": "7f8055ae",
   "metadata": {},
   "source": [
    "# 10 PLOTS OF CONTINOUS VARIABLES/FEATURES "
   ]
  },
  {
   "cell_type": "markdown",
   "id": "ff6819d9",
   "metadata": {},
   "source": [
    "FEATURE: DAYS_BIRTH"
   ]
  },
  {
   "cell_type": "code",
   "execution_count": 14,
   "id": "f4f3bb69",
   "metadata": {
    "scrolled": true
   },
   "outputs": [
    {
     "name": "stderr",
     "output_type": "stream",
     "text": [
      "/Users/macbookair/opt/anaconda3/lib/python3.8/site-packages/seaborn/distributions.py:2557: FutureWarning: `distplot` is a deprecated function and will be removed in a future version. Please adapt your code to use either `displot` (a figure-level function with similar flexibility) or `kdeplot` (an axes-level function for kernel density plots).\n",
      "  warnings.warn(msg, FutureWarning)\n",
      "/Users/macbookair/opt/anaconda3/lib/python3.8/site-packages/seaborn/distributions.py:2557: FutureWarning: `distplot` is a deprecated function and will be removed in a future version. Please adapt your code to use either `displot` (a figure-level function with similar flexibility) or `kdeplot` (an axes-level function for kernel density plots).\n",
      "  warnings.warn(msg, FutureWarning)\n"
     ]
    },
    {
     "data": {
      "text/plain": [
       "<matplotlib.legend.Legend at 0x11aaebd60>"
      ]
     },
     "execution_count": 14,
     "metadata": {},
     "output_type": "execute_result"
    },
    {
     "data": {
      "image/png": "[encoded data removed]",
      "text/plain": [
       "<Figure size 1296x432 with 1 Axes>"
      ]
     },
     "metadata": {
      "needs_background": "light"
     },
     "output_type": "display_data"
    }
   ],
   "source": [
    "# Converting DAYS_BIRTH to positive values & into YEARS_AGE\n",
    "\n",
    "# extract dataframe with DAYS_BIRTH\n",
    "age_df = train_df[train_df['DAYS_BIRTH']!=0]\n",
    "age_df['YEARS_AGE'] = np.abs(age_df['DAYS_BIRTH'])/(365)\n",
    "\n",
    "# Plotting Age\n",
    "plt.figure(figsize=(18,6))\n",
    "sns.distplot(age_df[age_df['TARGET']==0]['YEARS_AGE'], hist=False, label='0')\n",
    "sns.distplot(age_df[age_df['TARGET']==1]['YEARS_AGE'], hist=False, label='1')\n",
    "plt.title('Age vesus Target')\n",
    "plt.xlabel('Age (years)')\n",
    "plt.legend()\n"
   ]
  },
  {
   "cell_type": "markdown",
   "id": "6b8e2d7d",
   "metadata": {},
   "source": [
    "* Plot is important as it reveals a distribution convergance and divergance between those unable to repay home loans and those who can in respect to age. Those below age 40 are more unlikely to pay a home loan versus those above age 40. In addition, ability to pay a home loan converges around age 70."
   ]
  },
  {
   "cell_type": "markdown",
   "id": "4170d898",
   "metadata": {},
   "source": [
    "FEATURE: CNT_CHILDREN"
   ]
  },
  {
   "cell_type": "code",
   "execution_count": 15,
   "id": "cc9eff0d",
   "metadata": {},
   "outputs": [
    {
     "name": "stdout",
     "output_type": "stream",
     "text": [
      "TARGET             0      1\n",
      "CNT_CHILDREN               \n",
      "0             198762  16609\n",
      "1              55665   5454\n",
      "2              24416   2333\n",
      "3               3359    358\n",
      "4                374     55\n",
      "5                 77      7\n",
      "6                 15      6\n",
      "7                  7      0\n",
      "8                  2      0\n",
      "9                  0      2\n",
      "10                 2      0\n",
      "11                 0      1\n",
      "12                 2      0\n",
      "14                 3      0\n",
      "19                 2      0\n"
     ]
    },
    {
     "data": {
      "text/plain": [
       "Text(0, 0.5, 'Frequency')"
      ]
     },
     "execution_count": 15,
     "metadata": {},
     "output_type": "execute_result"
    },
    {
     "data": {
      "image/png": "[encoded data removed]",
      "text/plain": [
       "<Figure size 864x504 with 1 Axes>"
      ]
     },
     "metadata": {
      "needs_background": "light"
     },
     "output_type": "display_data"
    }
   ],
   "source": [
    "# Grouped bar chart between CNT_CHILDREN and TARGET\n",
    "CrosstabResult_2=pd.crosstab(index=train_df['CNT_CHILDREN'], columns=train_df['TARGET'])\n",
    "print(CrosstabResult_2)\n",
    "CrosstabResult_2.plot.bar(figsize=(12,7), rot=0)\n",
    "plt.title('Number of Children versus Target')\n",
    "plt.ylabel('Frequency')"
   ]
  },
  {
   "cell_type": "markdown",
   "id": "427a2819",
   "metadata": {},
   "source": [
    "* The higher the Children Count, the less likely the customer is given a home loan. Also, more customers are approved for a home loan the less children they have. "
   ]
  },
  {
   "cell_type": "markdown",
   "id": "d0a62759",
   "metadata": {},
   "source": [
    "FEATURE: AMT_INCOME_TOTAL"
   ]
  },
  {
   "cell_type": "code",
   "execution_count": 16,
   "id": "b97a39cc",
   "metadata": {},
   "outputs": [
    {
     "name": "stderr",
     "output_type": "stream",
     "text": [
      "<ipython-input-16-3587502512a3>:3: SettingWithCopyWarning: \n",
      "A value is trying to be set on a copy of a slice from a DataFrame.\n",
      "Try using .loc[row_indexer,col_indexer] = value instead\n",
      "\n",
      "See the caveats in the documentation: https://pandas.pydata.org/pandas-docs/stable/user_guide/indexing.html#returning-a-view-versus-a-copy\n",
      "  income_df['AMT_INCOME_TOTAL'] = income_df['AMT_INCOME_TOTAL']/(10000)\n",
      "/Users/macbookair/opt/anaconda3/lib/python3.8/site-packages/seaborn/distributions.py:2557: FutureWarning: `distplot` is a deprecated function and will be removed in a future version. Please adapt your code to use either `displot` (a figure-level function with similar flexibility) or `histplot` (an axes-level function for histograms).\n",
      "  warnings.warn(msg, FutureWarning)\n",
      "/Users/macbookair/opt/anaconda3/lib/python3.8/site-packages/seaborn/distributions.py:2557: FutureWarning: `distplot` is a deprecated function and will be removed in a future version. Please adapt your code to use either `displot` (a figure-level function with similar flexibility) or `histplot` (an axes-level function for histograms).\n",
      "  warnings.warn(msg, FutureWarning)\n"
     ]
    },
    {
     "data": {
      "text/plain": [
       "<matplotlib.legend.Legend at 0x11a4ed4f0>"
      ]
     },
     "execution_count": 16,
     "metadata": {},
     "output_type": "execute_result"
    },
    {
     "data": {
      "image/png": "[encoded data removed]",
      "text/plain": [
       "<Figure size 1656x720 with 1 Axes>"
      ]
     },
     "metadata": {
      "needs_background": "light"
     },
     "output_type": "display_data"
    }
   ],
   "source": [
    "# Plotting AMT_INCOME_TOTAL below $1,000,000 & dividing AMT_INCOME_TOTAL by 10,000\n",
    "income_df = train_df[train_df['AMT_INCOME_TOTAL']<1000000.0]\n",
    "income_df['AMT_INCOME_TOTAL'] = income_df['AMT_INCOME_TOTAL']/(10000)\n",
    "\n",
    "# Plotting \n",
    "plt.figure(figsize=(23,10))\n",
    "sns.distplot(income_df[income_df['TARGET']==0]['AMT_INCOME_TOTAL'], hist=True, bins=100, label='0')\n",
    "sns.distplot(income_df[income_df['TARGET']==1]['AMT_INCOME_TOTAL'], hist=True, bins=100, label='1')\n",
    "plt.title('Total Income versus Target')\n",
    "plt.xlim([0,80])\n",
    "plt.legend()"
   ]
  },
  {
   "cell_type": "markdown",
   "id": "7f9fe63f",
   "metadata": {},
   "source": [
    "* Customers that make less income are unlikely to repay loan and thus are denied a loan. Higher incomes result higher loan approvals. Incomes below 20 are likely to repay a home loan just as likely as not to repay a home loan. "
   ]
  },
  {
   "cell_type": "markdown",
   "id": "92ed3c52",
   "metadata": {},
   "source": [
    "FEATURE: NAME_EDUCATION_TYPE"
   ]
  },
  {
   "cell_type": "code",
   "execution_count": 17,
   "id": "634a01c9",
   "metadata": {},
   "outputs": [
    {
     "name": "stdout",
     "output_type": "stream",
     "text": [
      "NAME_EDUCATION_TYPE            TARGET\n",
      "Academic degree                0            161\n",
      "                               1              3\n",
      "Higher education               0          70854\n",
      "                               1           4009\n",
      "Incomplete higher              0           9405\n",
      "                               1            872\n",
      "Lower secondary                0           3399\n",
      "                               1            417\n",
      "Secondary / secondary special  0         198867\n",
      "                               1          19524\n",
      "Name: TARGET, dtype: int64\n"
     ]
    },
    {
     "data": {
      "text/plain": [
       "Text(0, 0.5, 'Frequency')"
      ]
     },
     "execution_count": 17,
     "metadata": {},
     "output_type": "execute_result"
    },
    {
     "data": {
      "image/png": "[encoded data removed]",
      "text/plain": [
       "<Figure size 864x504 with 1 Axes>"
      ]
     },
     "metadata": {
      "needs_background": "light"
     },
     "output_type": "display_data"
    }
   ],
   "source": [
    "# NAME_EDUCATION_TYPE value counts\n",
    "print(train_df.groupby('NAME_EDUCATION_TYPE')['TARGET'].value_counts())\n",
    "\n",
    "# Cross tabulation between NAME_EDUCATION_TYPE and TARGET\n",
    "CrosstabResult_3=pd.crosstab(index=train_df['NAME_EDUCATION_TYPE'], columns=train_df['TARGET'])\n",
    "CrosstabResult_3.plot.bar(figsize=(12,7), rot=0)\n",
    "plt.title('Education Type versus Target')\n",
    "plt.ylabel('Frequency')"
   ]
  },
  {
   "cell_type": "markdown",
   "id": "0ac59e72",
   "metadata": {},
   "source": [
    "* 1.83% of Academic degree borrowers were not likely to repay home loans, while almost 9% of Secondary degree borrowers were not likely to repay home loans."
   ]
  },
  {
   "cell_type": "markdown",
   "id": "54f6df06",
   "metadata": {},
   "source": [
    "FEATURE: NAME_FAMILY_STATUS"
   ]
  },
  {
   "cell_type": "code",
   "execution_count": 18,
   "id": "57ef6c8e",
   "metadata": {},
   "outputs": [
    {
     "name": "stdout",
     "output_type": "stream",
     "text": [
      "NAME_FAMILY_STATUS    TARGET\n",
      "Civil marriage        0          26814\n",
      "                      1           2961\n",
      "Married               0         181582\n",
      "                      1          14850\n",
      "Separated             0          18150\n",
      "                      1           1620\n",
      "Single / not married  0          40987\n",
      "                      1           4457\n",
      "Unknown               0              2\n",
      "Widow                 0          15151\n",
      "                      1            937\n",
      "Name: TARGET, dtype: int64\n"
     ]
    },
    {
     "data": {
      "text/plain": [
       "Text(0, 0.5, 'Frequency')"
      ]
     },
     "execution_count": 18,
     "metadata": {},
     "output_type": "execute_result"
    },
    {
     "data": {
      "image/png": "[encoded data removed]",
      "text/plain": [
       "<Figure size 864x504 with 1 Axes>"
      ]
     },
     "metadata": {
      "needs_background": "light"
     },
     "output_type": "display_data"
    }
   ],
   "source": [
    "# NAME_FAMILY_STATUS value counts\n",
    "print(train_df.groupby('NAME_FAMILY_STATUS')['TARGET'].value_counts())\n",
    "\n",
    "# Grouped bar chart between NAME_FAMILY_STATUS and TARGET\n",
    "CrosstabResult_4=pd.crosstab(index=train_df['NAME_FAMILY_STATUS'], columns=train_df['TARGET'])\n",
    "CrosstabResult_4.plot.bar(figsize=(12,7), rot=0)\n",
    "plt.title('Family Status versus Target')\n",
    "plt.ylabel('Frequency')"
   ]
  },
  {
   "cell_type": "markdown",
   "id": "2359a121",
   "metadata": {},
   "source": [
    "* Married apply to home loans more and are likely to repay loan. About 10% of Single/Not Married are unable to pay back home loans. "
   ]
  },
  {
   "cell_type": "markdown",
   "id": "f64de9b1",
   "metadata": {},
   "source": [
    "FEATURE: NAME_INCOME_TYPE"
   ]
  },
  {
   "cell_type": "code",
   "execution_count": 19,
   "id": "c53ee776",
   "metadata": {},
   "outputs": [
    {
     "name": "stdout",
     "output_type": "stream",
     "text": [
      "NAME_INCOME_TYPE      TARGET\n",
      "Businessman           0             10\n",
      "Commercial associate  0          66257\n",
      "                      1           5360\n",
      "Maternity leave       0              3\n",
      "                      1              2\n",
      "Pensioner             0          52380\n",
      "                      1           2982\n",
      "State servant         0          20454\n",
      "                      1           1249\n",
      "Student               0             18\n",
      "Unemployed            0             14\n",
      "                      1              8\n",
      "Working               0         143550\n",
      "                      1          15224\n",
      "Name: TARGET, dtype: int64\n"
     ]
    },
    {
     "data": {
      "text/plain": [
       "Text(0, 0.5, 'Frequency')"
      ]
     },
     "execution_count": 19,
     "metadata": {},
     "output_type": "execute_result"
    },
    {
     "data": {
      "image/png": "[encoded data removed]",
      "text/plain": [
       "<Figure size 864x504 with 1 Axes>"
      ]
     },
     "metadata": {
      "needs_background": "light"
     },
     "output_type": "display_data"
    }
   ],
   "source": [
    "# NAME_INCOME_TYPE value counts\n",
    "print(train_df.groupby('NAME_INCOME_TYPE')['TARGET'].value_counts())\n",
    "\n",
    "# Cross tabulation between NAME_INCOME_TYPE and TARGET\n",
    "CrosstabResult_5=pd.crosstab(index=train_df['NAME_INCOME_TYPE'], columns=train_df['TARGET'])\n",
    "CrosstabResult_5.plot.bar(figsize=(12,7), rot=45)\n",
    "plt.title('Income Type versus Target')\n",
    "plt.ylabel('Frequency')"
   ]
  },
  {
   "cell_type": "markdown",
   "id": "944d4bb5",
   "metadata": {},
   "source": [
    "* Unemployed customers are less likely to repay loans - 36% do not repay. Student and Businessman are more likely to repay home loans. "
   ]
  },
  {
   "cell_type": "markdown",
   "id": "d9286b2c",
   "metadata": {},
   "source": [
    "FEATURE: AMT_CREDIT"
   ]
  },
  {
   "cell_type": "code",
   "execution_count": 20,
   "id": "920dabdb",
   "metadata": {},
   "outputs": [
    {
     "name": "stderr",
     "output_type": "stream",
     "text": [
      "/Users/macbookair/opt/anaconda3/lib/python3.8/site-packages/seaborn/_decorators.py:36: FutureWarning: Pass the following variables as keyword args: x, y, data. From version 0.12, the only valid positional argument will be `data`, and passing other arguments without an explicit keyword will result in an error or misinterpretation.\n",
      "  warnings.warn(\n"
     ]
    },
    {
     "data": {
      "image/png": "[encoded data removed]",
      "text/plain": [
       "<Figure size 864x504 with 1 Axes>"
      ]
     },
     "metadata": {
      "needs_background": "light"
     },
     "output_type": "display_data"
    }
   ],
   "source": [
    "# AMT_CREDIT and AMT_INCOME_TOTAL with respect to TARGET\n",
    "\n",
    "# Excluding outlier with value 117000000.0\n",
    "new_income = train_df[train_df['AMT_INCOME_TOTAL']!=117000000.0]\n",
    "\n",
    "# Plotting AMT_CREDIT with AMT_INCOME_TOTAL\n",
    "sns.lmplot('AMT_CREDIT', 'AMT_INCOME_TOTAL',  new_income, hue='TARGET', fit_reg=False)\n",
    "fig = plt.gcf()\n",
    "fig.set_size_inches(12, 7)\n",
    "plt.show()"
   ]
  },
  {
   "cell_type": "markdown",
   "id": "61c658b8",
   "metadata": {},
   "source": [
    "* AMT_CREDIT plotted against AMT_INCOME_TOTAL reveals that higher credit amounts are requested by higher income earners, while being able to pay these higher credit amounts. "
   ]
  },
  {
   "cell_type": "markdown",
   "id": "33caea42",
   "metadata": {},
   "source": [
    "FEATURE: NAME_HOUSING_TYPE"
   ]
  },
  {
   "cell_type": "code",
   "execution_count": 21,
   "id": "4b2d1848",
   "metadata": {},
   "outputs": [
    {
     "name": "stdout",
     "output_type": "stream",
     "text": [
      "NAME_HOUSING_TYPE    TARGET\n",
      "Co-op apartment      0           1033\n",
      "                     1             89\n",
      "House / apartment    0         251596\n",
      "                     1          21272\n",
      "Municipal apartment  0          10228\n",
      "                     1            955\n",
      "Office apartment     0           2445\n",
      "                     1            172\n",
      "Rented apartment     0           4280\n",
      "                     1            601\n",
      "With parents         0          13104\n",
      "                     1           1736\n",
      "Name: TARGET, dtype: int64\n"
     ]
    },
    {
     "data": {
      "text/plain": [
       "Text(0, 0.5, 'Frequency')"
      ]
     },
     "execution_count": 21,
     "metadata": {},
     "output_type": "execute_result"
    },
    {
     "data": {
      "image/png": "[encoded data removed]",
      "text/plain": [
       "<Figure size 864x504 with 1 Axes>"
      ]
     },
     "metadata": {
      "needs_background": "light"
     },
     "output_type": "display_data"
    }
   ],
   "source": [
    "# NAME_HOUSING_TYPE value counts\n",
    "print(train_df.groupby('NAME_HOUSING_TYPE')['TARGET'].value_counts())\n",
    "\n",
    "# Cross tabulation between NAME_HOUSING_TYPE and TARGET\n",
    "CrosstabResult_6=pd.crosstab(index=train_df['NAME_HOUSING_TYPE'], columns=train_df['TARGET'])\n",
    "CrosstabResult_6.plot.bar(figsize=(12,7), rot=0)\n",
    "plt.title('Housing Type versus Target')\n",
    "plt.ylabel('Frequency')"
   ]
  },
  {
   "cell_type": "markdown",
   "id": "7d9484d2",
   "metadata": {},
   "source": [
    "* Ability to repay home loan varies among the different categories of housing type for an individual. House/apartment dwellers are likely to apply more for home loans, and while more are approved collectively, a larger number are unlikely to repay home loans relative to all other dweller types combined."
   ]
  },
  {
   "cell_type": "markdown",
   "id": "2b8eb09a",
   "metadata": {},
   "source": [
    "FEATURE: DAYS_EMPLOYED"
   ]
  },
  {
   "cell_type": "code",
   "execution_count": 22,
   "id": "0447f96f",
   "metadata": {},
   "outputs": [
    {
     "name": "stderr",
     "output_type": "stream",
     "text": [
      "<ipython-input-22-b7ae32af9453>:3: SettingWithCopyWarning: \n",
      "A value is trying to be set on a copy of a slice from a DataFrame.\n",
      "Try using .loc[row_indexer,col_indexer] = value instead\n",
      "\n",
      "See the caveats in the documentation: https://pandas.pydata.org/pandas-docs/stable/user_guide/indexing.html#returning-a-view-versus-a-copy\n",
      "  years_employed_df['YEARS_EMPLOYED'] = years_employed_df['DAYS_EMPLOYED']/(-365)\n",
      "/Users/macbookair/opt/anaconda3/lib/python3.8/site-packages/seaborn/distributions.py:2557: FutureWarning: `distplot` is a deprecated function and will be removed in a future version. Please adapt your code to use either `displot` (a figure-level function with similar flexibility) or `kdeplot` (an axes-level function for kernel density plots).\n",
      "  warnings.warn(msg, FutureWarning)\n",
      "/Users/macbookair/opt/anaconda3/lib/python3.8/site-packages/seaborn/distributions.py:2557: FutureWarning: `distplot` is a deprecated function and will be removed in a future version. Please adapt your code to use either `displot` (a figure-level function with similar flexibility) or `kdeplot` (an axes-level function for kernel density plots).\n",
      "  warnings.warn(msg, FutureWarning)\n"
     ]
    },
    {
     "data": {
      "text/plain": [
       "<matplotlib.legend.Legend at 0x11bd668e0>"
      ]
     },
     "execution_count": 22,
     "metadata": {},
     "output_type": "execute_result"
    },
    {
     "data": {
      "image/png": "[encoded data removed]",
      "text/plain": [
       "<Figure size 1296x432 with 1 Axes>"
      ]
     },
     "metadata": {
      "needs_background": "light"
     },
     "output_type": "display_data"
    }
   ],
   "source": [
    "# Converting Days of employment in years of employment & excluding DAYS_EMPLOYED=365243 (1000 years of employment)\n",
    "years_employed_df = train_df[train_df['DAYS_EMPLOYED']!=365243]\n",
    "years_employed_df['YEARS_EMPLOYED'] = years_employed_df['DAYS_EMPLOYED']/(-365)\n",
    "\n",
    "# Plotting Years_Employed \n",
    "plt.figure(figsize=(18,6))\n",
    "sns.distplot(years_employed_df[years_employed_df['TARGET']==0]['YEARS_EMPLOYED'], hist=False, label='0')\n",
    "sns.distplot(years_employed_df[years_employed_df['TARGET']==1]['YEARS_EMPLOYED'], hist=False, label='1')\n",
    "plt.title('YEARS_EMPLOYED versus Target')\n",
    "plt.xlim([-5,45])\n",
    "plt.legend()"
   ]
  },
  {
   "cell_type": "markdown",
   "id": "f0f1da8e",
   "metadata": {},
   "source": [
    "* Borrowers with less than seven years have more trouble repaying a home loan. Afterwards, years_employed diverages, with borrowers over seven of employment having less trouble repaying home loans. Convergance occurs at around 40 years of employment. "
   ]
  },
  {
   "cell_type": "markdown",
   "id": "a951bedf",
   "metadata": {},
   "source": [
    "FEATURE: OCCUPATION_TYPE"
   ]
  },
  {
   "cell_type": "code",
   "execution_count": 23,
   "id": "55e2ddec",
   "metadata": {},
   "outputs": [
    {
     "name": "stdout",
     "output_type": "stream",
     "text": [
      "OCCUPATION_TYPE        TARGET\n",
      "Accountants            0          9339\n",
      "                       1           474\n",
      "Cleaning staff         0          4206\n",
      "                       1           447\n",
      "Cooking staff          0          5325\n",
      "                       1           621\n",
      "Core staff             0         25832\n",
      "                       1          1738\n",
      "Drivers                0         16496\n",
      "                       1          2107\n",
      "HR staff               0           527\n",
      "                       1            36\n",
      "High skill tech staff  0         10679\n",
      "                       1           701\n",
      "IT staff               0           492\n",
      "                       1            34\n",
      "Laborers               0         49348\n",
      "                       1          5838\n",
      "Low-skill Laborers     0          1734\n",
      "                       1           359\n",
      "Managers               0         20043\n",
      "                       1          1328\n",
      "Medicine staff         0          7965\n",
      "                       1           572\n",
      "Private service staff  0          2477\n",
      "                       1           175\n",
      "Realty agents          0           692\n",
      "                       1            59\n",
      "Sales staff            0         29010\n",
      "                       1          3092\n",
      "Secretaries            0          1213\n",
      "                       1            92\n",
      "Security staff         0          5999\n",
      "                       1           722\n",
      "Waiters/barmen staff   0          1196\n",
      "                       1           152\n",
      "Name: TARGET, dtype: int64\n"
     ]
    },
    {
     "data": {
      "text/plain": [
       "Text(0, 0.5, 'Frequency')"
      ]
     },
     "execution_count": 23,
     "metadata": {},
     "output_type": "execute_result"
    },
    {
     "data": {
      "image/png": "[encoded data removed]",
      "text/plain": [
       "<Figure size 864x504 with 1 Axes>"
      ]
     },
     "metadata": {
      "needs_background": "light"
     },
     "output_type": "display_data"
    }
   ],
   "source": [
    "# OCCUPATION_TYPE value counts\n",
    "print(train_df.groupby('OCCUPATION_TYPE')['TARGET'].value_counts())\n",
    "\n",
    "# Cross tabulation between OCCUPATION_TYPE and TARGET\n",
    "CrosstabResult_8=pd.crosstab(index=train_df['OCCUPATION_TYPE'], columns=train_df['TARGET'])\n",
    "CrosstabResult_8.plot.bar(figsize=(12,7), rot=90)\n",
    "plt.title('Occupation Type versus Target')\n",
    "plt.ylabel('Frequency')"
   ]
  },
  {
   "cell_type": "markdown",
   "id": "73b65a87",
   "metadata": {},
   "source": [
    "* Low-skill Laborers were about three times more likely not to repay a home loan in contrast to a High skill tech staff. Drivers were two times more likely not to repay in comparison to a High skill tech staff. "
   ]
  },
  {
   "cell_type": "markdown",
   "id": "9267f13a",
   "metadata": {},
   "source": [
    "##### BOXPLOTS FOR TOP TEN CONTINUOUS FEATURES ABOVE"
   ]
  },
  {
   "cell_type": "code",
   "execution_count": 24,
   "id": "f11b950d",
   "metadata": {},
   "outputs": [
    {
     "data": {
      "text/plain": [
       "Text(0.5, 1.0, 'AGE')"
      ]
     },
     "execution_count": 24,
     "metadata": {},
     "output_type": "execute_result"
    },
    {
     "data": {
      "image/png": "[encoded data removed]",
      "text/plain": [
       "<Figure size 1080x432 with 1 Axes>"
      ]
     },
     "metadata": {
      "needs_background": "light"
     },
     "output_type": "display_data"
    }
   ],
   "source": [
    "# BOXPLOT YEARS_AGE (Converted from DAYS_BIRTH)\n",
    "plt.figure(figsize=(15, 6))\n",
    "sns.boxplot(data=age_df, x='YEARS_AGE')\n",
    "plt.title('AGE')"
   ]
  },
  {
   "cell_type": "code",
   "execution_count": 25,
   "id": "243c2ba7",
   "metadata": {},
   "outputs": [
    {
     "data": {
      "text/plain": [
       "Text(0.5, 1.0, 'Children Count')"
      ]
     },
     "execution_count": 25,
     "metadata": {},
     "output_type": "execute_result"
    },
    {
     "data": {
      "image/png": "[encoded data removed]",
      "text/plain": [
       "<Figure size 1080x432 with 1 Axes>"
      ]
     },
     "metadata": {
      "needs_background": "light"
     },
     "output_type": "display_data"
    }
   ],
   "source": [
    "# BOXPLOT CNT_CHILDREN\n",
    "plt.figure(figsize=(15, 6))\n",
    "sns.boxplot(data=train_df, x='CNT_CHILDREN')\n",
    "plt.title('Children Count')"
   ]
  },
  {
   "cell_type": "code",
   "execution_count": 26,
   "id": "5ac22fd7",
   "metadata": {},
   "outputs": [
    {
     "data": {
      "text/plain": [
       "Text(0.5, 1.0, 'Total Income')"
      ]
     },
     "execution_count": 26,
     "metadata": {},
     "output_type": "execute_result"
    },
    {
     "data": {
      "image/png": "[encoded data removed]",
      "text/plain": [
       "<Figure size 1080x432 with 1 Axes>"
      ]
     },
     "metadata": {
      "needs_background": "light"
     },
     "output_type": "display_data"
    }
   ],
   "source": [
    "# BOXPLOT AMT_INCOME_TOTAL (From income_df)\n",
    "plt.figure(figsize=(15, 6))\n",
    "sns.boxplot(data=income_df, x='AMT_INCOME_TOTAL')\n",
    "plt.title('Total Income')"
   ]
  },
  {
   "cell_type": "code",
   "execution_count": 27,
   "id": "3b017374",
   "metadata": {},
   "outputs": [
    {
     "data": {
      "text/plain": [
       "Text(0.5, 1.0, 'Credit Amount')"
      ]
     },
     "execution_count": 27,
     "metadata": {},
     "output_type": "execute_result"
    },
    {
     "data": {
      "image/png": "[encoded data removed]",
      "text/plain": [
       "<Figure size 1080x432 with 1 Axes>"
      ]
     },
     "metadata": {
      "needs_background": "light"
     },
     "output_type": "display_data"
    }
   ],
   "source": [
    "# BOXPLOT AMT_CREDIT\n",
    "plt.figure(figsize=(15, 6))\n",
    "sns.boxplot(data=train_df, x='AMT_CREDIT')\n",
    "plt.title('Credit Amount')"
   ]
  },
  {
   "cell_type": "code",
   "execution_count": 28,
   "id": "da81dab2",
   "metadata": {},
   "outputs": [
    {
     "data": {
      "text/plain": [
       "Text(0.5, 1.0, 'Years Employed')"
      ]
     },
     "execution_count": 28,
     "metadata": {},
     "output_type": "execute_result"
    },
    {
     "data": {
      "image/png": "[encoded data removed]",
      "text/plain": [
       "<Figure size 1080x432 with 1 Axes>"
      ]
     },
     "metadata": {
      "needs_background": "light"
     },
     "output_type": "display_data"
    }
   ],
   "source": [
    "# BOXPLOT YEARS_EMPLOYED (Converted from DAYS_EMPLOYED)\n",
    "plt.figure(figsize=(15, 6))\n",
    "sns.boxplot(data=years_employed_df, x='YEARS_EMPLOYED') \n",
    "plt.title('Years Employed')"
   ]
  },
  {
   "cell_type": "markdown",
   "id": "d5bdcfb8",
   "metadata": {},
   "source": [
    "###### THE TEN FEATURES ARE: DAYS_BIRTH, CNT_CHILDREN, AMT_INCOME_TOTAL, NAME_EDUCATION_TYPE, NAME_FAMILY_STATUS, NAME_INCOME_TYPE, AMT_CREDIT, NAME_HOUSING_TYPE, DAYS_EMPLOYED, OCCUPATION_TYPE"
   ]
  }
 ],
 "metadata": {
  "kernelspec": {
   "display_name": "Python 3",
   "language": "python",
   "name": "python3"
  },
  "language_info": {
   "codemirror_mode": {
    "name": "ipython",
    "version": 3
   },
   "file_extension": ".py",
   "mimetype": "text/x-python",
   "name": "python",
   "nbconvert_exporter": "python",
   "pygments_lexer": "ipython3",
   "version": "3.8.8"
  }
 },
 "nbformat": 4,
 "nbformat_minor": 5
}
